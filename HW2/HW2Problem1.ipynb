{
 "cells": [
  {
   "cell_type": "markdown",
   "metadata": {},
   "source": [
    "# EECE5644, Homework 2\n",
    "### Ethan Holand 6/4/22"
   ]
  },
  {
   "cell_type": "code",
   "execution_count": 1,
   "metadata": {},
   "outputs": [],
   "source": [
    "# Widget to manipulate plots in Jupyter notebooks\n",
    "%matplotlib widget \n",
    "\n",
    "import matplotlib.pyplot as plt # For general plotting\n",
    "\n",
    "import numpy as np\n",
    "\n",
    "from scipy.stats import multivariate_normal # MVN not univariate\n",
    "from sklearn.metrics import confusion_matrix\n",
    "\n",
    "np.set_printoptions(suppress=True)\n",
    "\n",
    "# Set seed to generate reproducible \"pseudo-randomness\" (handles scipy's \"randomness\" too)\n",
    "np.random.seed(7)\n",
    "\n",
    "plt.rc('font', size=22)          # controls default text sizes\n",
    "plt.rc('axes', titlesize=18)     # fontsize of the axes title\n",
    "plt.rc('axes', labelsize=18)     # fontsize of the x and y labels\n",
    "plt.rc('xtick', labelsize=14)    # fontsize of the tick labels\n",
    "plt.rc('ytick', labelsize=14)    # fontsize of the tick labels\n",
    "plt.rc('legend', fontsize=16)    # legend fontsize\n",
    "plt.rc('figure', titlesize=22)   # fontsize of the figure title"
   ]
  },
  {
   "cell_type": "code",
   "execution_count": 2,
   "metadata": {},
   "outputs": [],
   "source": [
    "N = 10000\n",
    "\n",
    "# Mean and covariance of data pdfs conditioned on labels\n",
    "mu = np.array([[3, 0],\n",
    "               [0, 3],\n",
    "               [2, 2]])  # Gaussian distributions means\n",
    "Sigma = np.array([[[2, 0],\n",
    "                   [0, 1]],\n",
    "                  [[1, 0],\n",
    "                   [0, 2]],\n",
    "                  [[1, 0],\n",
    "                   [0, 1]]])  # Gaussian distributions covariance matrices\n",
    "# Determine dimensionality from mixture PDF parameters\n",
    "n = mu.shape[1]\n",
    "\n",
    "# Class priors\n",
    "priors = np.array([0.65, 0.35])  \n",
    "C = len(priors)\n",
    "# Decide randomly which samples will come from each component\n",
    "u = np.random.rand(N)\n",
    "thresholds = np.cumsum(priors)\n",
    "thresholds = np.insert(thresholds, 0, 0) # For intervals of classes\n",
    "\n",
    "# Output samples and labels\n",
    "X = np.zeros([N, n])\n",
    "labels = np.zeros(N) # KEEP TRACK OF THIS"
   ]
  },
  {
   "cell_type": "code",
   "execution_count": null,
   "metadata": {},
   "outputs": [],
   "source": [
    "# Plot for original data and their true labels\n",
    "fig = plt.figure(figsize=(10, 10))\n",
    "marker_shapes = 'd+.'\n",
    "marker_colors = 'rbg' \n",
    "\n",
    "L = np.array(range(1, C+1))\n",
    "for l in L:\n",
    "    # Get randomly sampled indices for this component\n",
    "    indices = np.argwhere((thresholds[l-1] <= u) & (u <= thresholds[l]))[:, 0]\n",
    "    # No. of samples in this component\n",
    "    Nl = len(indices)  \n",
    "    labels[indices] = l * np.ones(Nl)\n",
    "    X[indices, :] =  multivariate_normal.rvs(mu[l-1], Sigma[l-1], Nl)\n",
    "    plt.plot(X[labels==l, 0], X[labels==l, 1], marker_shapes[l-1] + marker_colors[l-1], label=\"True Class {}\".format(l))\n",
    "\n",
    "    \n",
    "# Plot the original data and their true labels\n",
    "plt.legend()\n",
    "plt.xlabel(r\"$x_1$\")\n",
    "plt.ylabel(r\"$x_2$\")\n",
    "plt.title(\"Generated Original Data Samples\")\n",
    "plt.tight_layout()\n",
    "plt.show()"
   ]
  }
 ],
 "metadata": {
  "interpreter": {
   "hash": "7f2633a0dd9fad194999ffc17b7b93627efd4bccf6144e14bc5fef7dfd0c6355"
  },
  "kernelspec": {
   "display_name": "Python 3.10.4 64-bit",
   "language": "python",
   "name": "python3"
  },
  "language_info": {
   "codemirror_mode": {
    "name": "ipython",
    "version": 3
   },
   "file_extension": ".py",
   "mimetype": "text/x-python",
   "name": "python",
   "nbconvert_exporter": "python",
   "pygments_lexer": "ipython3",
   "version": "3.10.4"
  },
  "orig_nbformat": 4
 },
 "nbformat": 4,
 "nbformat_minor": 2
}
