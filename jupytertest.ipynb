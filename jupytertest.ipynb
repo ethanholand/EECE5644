{
 "cells": [
  {
   "cell_type": "markdown",
   "metadata": {},
   "source": [
    "HW1P1\n",
    "EECE5644\n",
    "Ethan Holand\n",
    "5/25/2022"
   ]
  },
  {
   "cell_type": "code",
   "execution_count": null,
   "metadata": {},
   "outputs": [],
   "source": [
    "import numpy as np\n",
    "\n",
    "\n",
    "#Given values:\n",
    "#Class priors:\n",
    "pl0 = 0.65\n",
    "pl1 = 0.35\n",
    "\n",
    "m0 = np.array([-1/2, -1/2, -1/2])"
   ]
  }
 ],
 "metadata": {
  "language_info": {
   "name": "python"
  },
  "orig_nbformat": 4
 },
 "nbformat": 4,
 "nbformat_minor": 2
}
